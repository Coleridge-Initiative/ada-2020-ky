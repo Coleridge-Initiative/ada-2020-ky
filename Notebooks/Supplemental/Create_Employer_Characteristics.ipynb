{
 "cells": [
  {
   "cell_type": "markdown",
   "metadata": {},
   "source": [
    "The goal of this notebook is to generate a slew of employer-level characteristics given a UI wage records table. We will find these employer-level characteristics for all employers with at least five unique employees in Kentucky for the 2012Q4-2014Q3. We will define each employer as a unique `employeeno` value in this dataset.\n",
    "\n",
    "Here are the statistics we will find:\n",
    "\n",
    "    - Total payroll\n",
    "    - Average earnings per employee\n",
    "    - Earnings per employee at the 75th percentile\n",
    "    - Earnings per employee at the 25th percentile\n",
    "    - Industry\n",
    "    - Number of full quarter employees\n",
    "    - Total payroll for full quarter employees\n",
    "    - Average earnings per full quarter employee\n",
    "    - Employment, Separation, and Hiring Growth Rates\n",
    "    \n",
    "Our final output from this notebook is a permanent table with employer-level information spanning 2012Q4-2014Q3 for each employer with at least 5 employees in Kentucky that exists in its UI wage records."
   ]
  },
  {
   "cell_type": "code",
   "execution_count": null,
   "metadata": {},
   "outputs": [],
   "source": [
    "# load packages\n",
    "library(lubridate)\n",
    "library(tidyverse)\n",
    "library(DBI)\n",
    "library(RPostgreSQL)"
   ]
  },
  {
   "cell_type": "code",
   "execution_count": null,
   "metadata": {},
   "outputs": [],
   "source": [
    "# connect to our database\n",
    "drv <- dbDriver(\"PostgreSQL\")\n",
    "con <- dbConnect(drv,dbname = \"postgresql://stuffed.adrf.info/appliedda\")"
   ]
  },
  {
   "cell_type": "markdown",
   "metadata": {},
   "source": [
    "There are a few suspect `ssn` values that we will not include in this analysis. Therefore, we will create a temporary table of Kentucky's UI wage records while subsetting the data to the year/quarter combinations we will need to generate this table."
   ]
  },
  {
   "cell_type": "markdown",
   "metadata": {},
   "source": [
    "First, we will create temporary tables of all the UI wage record information from `ky_wages_sub` for five quarters: 2012Q4-2014Q3. We need to include information on the quarter prior to our desired start (2012Q3) since we need employment, separation, and hiring rates for 2012Q3 to calculate growth rates for these measures in 2012Q4."
   ]
  },
  {
   "cell_type": "code",
   "execution_count": null,
   "metadata": {},
   "outputs": [],
   "source": [
    "qry = \"\n",
    "select *\n",
    "from ada_ky_20.ky_wages_sub\n",
    "limit 5\n",
    "\"\n",
    "dbGetQuery(con,qry)"
   ]
  },
  {
   "cell_type": "code",
   "execution_count": null,
   "metadata": {},
   "outputs": [],
   "source": [
    "table<-c(\"q3_2012\", \"q4_2012\",\"q1_2013\",\"q2_2013\",\"q3_2013\", \"q4_2013\", \"q1_2014\", \"q2_2014\",\"q3_2014\")\n",
    "as.integer(substr(table, 2,2))"
   ]
  },
  {
   "cell_type": "markdown",
   "metadata": {},
   "source": [
    "2012Q4-2014Q3"
   ]
  },
  {
   "cell_type": "code",
   "execution_count": null,
   "metadata": {},
   "outputs": [],
   "source": [
    "table<-c(\"q3_2012\", \"q4_2012\",\"q1_2013\",\"q2_2013\",\"q3_2013\", \"q4_2013\", \"q1_2014\", \"q2_2014\",\"q3_2014\")\n",
    "year <- as.integer(substr(table, 4,7))\n",
    "q <- as.integer(substr(table,2,2))\n",
    "for(i in 1:9){\n",
    "    qry = '\n",
    "    create temp table \"%s\" as \n",
    "    select *\n",
    "    from ada_ky_20.ky_wages_sub\n",
    "    where qtr = %d and calendaryear = %d and employeeno is not null\n",
    "    '\n",
    "    full_qry = sprintf(qry, table[i], q[i], year[i])\n",
    "    dbExecute(con, full_qry)\n",
    "}"
   ]
  },
  {
   "cell_type": "code",
   "execution_count": null,
   "metadata": {},
   "outputs": [],
   "source": [
    "qry = \"\n",
    "select * from q3_2012 limit 5\n",
    "\"\n",
    "dbGetQuery(con, qry)"
   ]
  },
  {
   "cell_type": "markdown",
   "metadata": {},
   "source": [
    "Then, we will add columns to track if each `employeeno`/`coleridge_id` combination within a given quarter exists in the wage record table the quarter before and/or the quarter after. This will be important in tracking full-quarter employment, as well as hiring and separation numbers."
   ]
  },
  {
   "cell_type": "code",
   "execution_count": null,
   "metadata": {},
   "outputs": [],
   "source": [
    "qry = \"\n",
    "select * from q3_2012 limit 5\n",
    "\"\n",
    "dbGetQuery(con, qry)"
   ]
  },
  {
   "cell_type": "code",
   "execution_count": null,
   "metadata": {},
   "outputs": [],
   "source": [
    "# initialize pre and post employment columns\n",
    "new_cols <- c('pre_emp', 'post_emp')\n",
    "\n",
    "for(col in new_cols){\n",
    "    for(i in 1:9){\n",
    "        qry='\n",
    "        ALTER TABLE \"%s\" ADD COLUMN \"%s\" int\n",
    "        '\n",
    "        full_qry = sprintf(qry,table[i], col)\n",
    "        dbExecute(con, full_qry)\n",
    "    }\n",
    "}"
   ]
  },
  {
   "cell_type": "markdown",
   "metadata": {},
   "source": [
    "After the `pre_emp` and `post_emp` columns are initialized in each of these temporary tables, we can set these as indicator variables if the `coleridge_id`/`employeeno` combination that appeared in the UI wage records for the given year/quarter combination also existed in the previous and future quarter."
   ]
  },
  {
   "cell_type": "code",
   "execution_count": null,
   "metadata": {},
   "outputs": [],
   "source": [
    "# order employment flags properly for 0-9 index below\n",
    "preYr = c(2012, 2012, 2012, 2013, 2013, 2013, 2013, 2014, 2014)\n",
    "preQ = c(2, 3, 4, 1, 2, 3, 4, 1, 2)\n",
    "\n",
    "# loop through an integer list\n",
    "# 0 is 4th lag (4 quarters ago)\n",
    "\n",
    "for(i in 1:9){\n",
    "    # update this quarter employment flag\n",
    "    qry='\n",
    "    UPDATE \"%s\" a SET pre_emp = \n",
    "        CASE WHEN b.wages is null THEN 0 ELSE 1 END\n",
    "    FROM ada_ky_20.ky_wages_sub b\n",
    "    WHERE b.calendaryear= %d AND b.qtr= %d --grab correct quarter\n",
    "        AND a.coleridge_id=b.coleridge_id AND a.employeeno=b.employeeno --ensure same job\n",
    "    '\n",
    "    full_qry = sprintf(qry, table[i], preYr[i], preQ[i])\n",
    "    dbExecute(con, full_qry)\n",
    "    }"
   ]
  },
  {
   "cell_type": "code",
   "execution_count": null,
   "metadata": {},
   "outputs": [],
   "source": [
    "# see values of pre_emp\n",
    "qry = \"\n",
    "select pre_emp, count(*)\n",
    "from q4_2012 group by pre_emp\n",
    "\"\n",
    "dbGetQuery(con, qry)"
   ]
  },
  {
   "cell_type": "code",
   "execution_count": null,
   "metadata": {},
   "outputs": [],
   "source": [
    "# order employment flags properly for 0-5 index below\n",
    "postYr = c(2012, 2013, 2013, 2013, 2013, 2014, 2014, 2014, 2014)\n",
    "postQ = c(4, 1, 2, 3, 4, 1, 2, 3, 4)\n",
    "\n",
    "# loop through an integer list\n",
    "# 0 is 4th lag (4 quarters ago)\n",
    "\n",
    "for(i in 1:9){\n",
    "    # update this quarter employment flag\n",
    "    qry='\n",
    "    UPDATE \"%s\" a SET post_emp = \n",
    "        CASE WHEN b.wages is NULL THEN 0 ELSE 1 END\n",
    "    FROM ada_ky_20.ky_wages_sub b\n",
    "    WHERE b.calendaryear= %d AND b.qtr= %d --grab correct quarter\n",
    "        AND a.coleridge_id=b.coleridge_id AND a.employeeno=b.employeeno --ensure same job\n",
    "    '\n",
    "    full_qry = sprintf(qry, table[i], postYr[i], postQ[i])\n",
    "    dbExecute(con, full_qry)\n",
    "    }"
   ]
  },
  {
   "cell_type": "code",
   "execution_count": null,
   "metadata": {},
   "outputs": [],
   "source": [
    "# take a peek at one of the tables\n",
    "qry <- \"\n",
    "select *\n",
    "from q3_2012\n",
    "limit 5\n",
    "\"\n",
    "dbGetQuery(con, qry)"
   ]
  },
  {
   "cell_type": "markdown",
   "metadata": {},
   "source": [
    "Now that we have pre and post-quarter employment indicators for each `coleridge_id`/`employeeno` combination, we can add hiring and separation indicators into these tables."
   ]
  },
  {
   "cell_type": "code",
   "execution_count": null,
   "metadata": {},
   "outputs": [],
   "source": [
    "new_cols <- c('sep', 'hire')\n",
    "\n",
    "for(col in new_cols){\n",
    "    for(i in 1:9){\n",
    "        qry='\n",
    "        ALTER TABLE \"%s\" ADD COLUMN \"%s\" int\n",
    "        '\n",
    "        full_qry = sprintf(qry,table[i], col)\n",
    "        dbExecute(con, full_qry)\n",
    "    }\n",
    "}"
   ]
  },
  {
   "cell_type": "code",
   "execution_count": null,
   "metadata": {},
   "outputs": [],
   "source": [
    "# take a peek at one of the tables\n",
    "qry <- \"\n",
    "select *\n",
    "from q3_2012\n",
    "limit 5\n",
    "\"\n",
    "dbGetQuery(con, qry)"
   ]
  },
  {
   "cell_type": "code",
   "execution_count": null,
   "metadata": {},
   "outputs": [],
   "source": [
    "for(i in 1:9){\n",
    "    qry='\n",
    "    UPDATE \"%s\" a SET sep = \n",
    "    CASE WHEN post_emp is null THEN 1 ELSE 0 END\n",
    "    '\n",
    "    full_qry = sprintf(qry,table[i])\n",
    "    dbExecute(con, full_qry)\n",
    "}"
   ]
  },
  {
   "cell_type": "code",
   "execution_count": null,
   "metadata": {},
   "outputs": [],
   "source": [
    "# look at different values of sep\n",
    "qry = '\n",
    "select count(*), sep\n",
    "from q3_2012 group by sep\n",
    "'\n",
    "\n",
    "dbGetQuery(con, qry)"
   ]
  },
  {
   "cell_type": "code",
   "execution_count": null,
   "metadata": {},
   "outputs": [],
   "source": [
    "for(i in 1:9){\n",
    "    qry='\n",
    "    UPDATE \"%s\" a SET hire = \n",
    "    CASE WHEN pre_emp is null THEN 1 ELSE 0 END\n",
    "    '\n",
    "    full_qry = sprintf(qry,table[i])\n",
    "    dbExecute(con, full_qry)\n",
    "}"
   ]
  },
  {
   "cell_type": "code",
   "execution_count": null,
   "metadata": {},
   "outputs": [],
   "source": [
    "# look at one of the tables again\n",
    "qry = '\n",
    "select * \n",
    "from q3_2012 \n",
    "limit 5'\n",
    "dbGetQuery(con, qry)"
   ]
  },
  {
   "cell_type": "code",
   "execution_count": null,
   "metadata": {},
   "outputs": [],
   "source": [
    "# look at different values of sep\n",
    "qry = '\n",
    "select count(*), hire\n",
    "from q3_2012 group by hire\n",
    "'\n",
    "\n",
    "dbGetQuery(con, qry)"
   ]
  },
  {
   "cell_type": "markdown",
   "metadata": {},
   "source": [
    "### Aggregate by Employer\n",
    "\n",
    "At this point, we have all the information we need to aggregate on the `employeeno` values. We will do these aggregations in separate steps, as they will require separate `WHERE` clauses. In the first, we will find values for all measures outside of the full-quarter employee-related ones."
   ]
  },
  {
   "cell_type": "code",
   "execution_count": null,
   "metadata": {},
   "outputs": [],
   "source": [
    "emp_tabs <- c(\"gen_q4_2012\", \"gen_q1_2013\", \"gen_q2_2013\", \"gen_q3_2013\", \"gen_q4_2013\", \n",
    "              \"gen_q1_2014\", \"gen_q2_2014\", \"gen_q3_2014\")\n",
    "for(i in 1:8){    \n",
    "    qry = '\n",
    "    create temp table \"%s\" as\n",
    "    select employeeno,  naics, qtr, calendaryear, count(distinct(coleridge_id)) as num_employed,\n",
    "    sum(wages)/count(distinct(coleridge_id)) as avg_earnings, sum(wages) as total_earnings,\n",
    "    percentile_disc(0.25) within group (order by wages) as bottom_25_pctile,\n",
    "    percentile_disc(0.75) within group (order by wages) as top_25_pctile,\n",
    "    sum(hire) as num_hire, sum(sep) as num_sep\n",
    "    from \"%s\"\n",
    "    group by employeeno, naics, qtr, calendaryear\n",
    "    '\n",
    "    full_qry = sprintf(qry, emp_tabs[i], table[i+1])\n",
    "    dbGetQuery(con, full_qry)\n",
    "    }"
   ]
  },
  {
   "cell_type": "code",
   "execution_count": null,
   "metadata": {},
   "outputs": [],
   "source": [
    "# see these stats aggregated by employer for q1\n",
    "qry = \"\n",
    "select * from gen_q4_2012 limit 5\n",
    "\"\n",
    "dbGetQuery(con, qry)"
   ]
  },
  {
   "cell_type": "markdown",
   "metadata": {},
   "source": [
    "In a separate table, we can find all of the statistics related to full-quarter employment."
   ]
  },
  {
   "cell_type": "code",
   "execution_count": null,
   "metadata": {},
   "outputs": [],
   "source": [
    "full_tabs <- c(\"fq_q4_2012\", \"fq_q1_2013\", \"fq_q2_2013\", \"fq_q3_2013\", \"fq_q4_2013\", \n",
    "               \"fq_q1_2014\", \"fq_q2_2014\", \"fq_q3_2014\")\n",
    "for(i in 1:8){    \n",
    "    qry = '\n",
    "    create temp table \"%s\" as\n",
    "    select employeeno, naics, qtr, calendaryear, count(distinct(coleridge_id)) as full_num_employed, \n",
    "    sum(wages)/count(distinct(coleridge_id)) as full_avg_earnings, sum(wages) as full_total_earnings\n",
    "    from \"%s\"\n",
    "    where post_emp = 1 and pre_emp = 1\n",
    "    group by employeeno, naics, qtr, calendaryear\n",
    "    '\n",
    "    full_qry = sprintf(qry, full_tabs[i], table[i+1])\n",
    "    dbGetQuery(con, full_qry)\n",
    "    }"
   ]
  },
  {
   "cell_type": "code",
   "execution_count": null,
   "metadata": {},
   "outputs": [],
   "source": [
    "# see a full quarter employment table\n",
    "qry = \"\n",
    "select * from fq_q4_2012 limit 5\n",
    "\"\n",
    "dbGetQuery(con, qry)"
   ]
  },
  {
   "cell_type": "markdown",
   "metadata": {},
   "source": [
    "Finally, we need information on these employer's hiring, employment, and separation numbers for the prior year to calculate their growth rates."
   ]
  },
  {
   "cell_type": "code",
   "execution_count": null,
   "metadata": {},
   "outputs": [],
   "source": [
    "old_tabs <- c(\"pre_q4_2012\", \"pre_q1_2013\", \"pre_q2_2013\", \"pre_q3_2013\", \"pre_q4_2013\", \n",
    "              \"pre_q1_2014\", \"pre_q2_2014\", \"pre_q3_2014\")\n",
    "for(i in 1:8){    \n",
    "    qry = '\n",
    "    create temp table \"%s\" as\n",
    "    select employeeno,  naics, qtr, calendaryear, \n",
    "    count(distinct(coleridge_id)) as num_employed_pre, sum(hire) as num_hire_pre, sum(sep) as num_sep_pre\n",
    "    from \"%s\"\n",
    "    group by employeeno, naics, qtr, calendaryear\n",
    "    '\n",
    "    full_qry = sprintf(qry, old_tabs[i], table[i])\n",
    "    dbGetQuery(con, full_qry)\n",
    "    }"
   ]
  },
  {
   "cell_type": "code",
   "execution_count": null,
   "metadata": {},
   "outputs": [],
   "source": [
    "# see quarter before information\n",
    "qry = \"select * from pre_q4_2012 limit 5\"\n",
    "dbGetQuery(con, qry)"
   ]
  },
  {
   "cell_type": "markdown",
   "metadata": {},
   "source": [
    "Now that we have all the information we need in three tables, we can join them together based on the `employeeno` and `naics` values."
   ]
  },
  {
   "cell_type": "code",
   "execution_count": null,
   "metadata": {},
   "outputs": [],
   "source": [
    "tabs <- c(\"emp_q4_2012\", \"emp_q1_2013\", \"emp_q2_2013\", \"emp_q3_2013\", \"emp_q4_2013\", \"emp_q1_2014\", \"emp_q2_2014\", \"emp_q3_2014\")\n",
    "for(i in 1:8){\n",
    "    qry = '\n",
    "    create temp table \"%s\" as\n",
    "    select a.*, \n",
    "    case \n",
    "        when b.full_num_employed is null then 0 \n",
    "        else b.full_num_employed end as full_num_employed,\n",
    "    b.full_avg_earnings, b.full_total_earnings\n",
    "    from \"%s\" a\n",
    "    left join \"%s\" b\n",
    "    on a.employeeno = b.employeeno and a.qtr = b.qtr and a.naics = b.naics and a.calendaryear = b.calendaryear\n",
    "    where a.num_employed >= 5\n",
    "    '\n",
    "    full_qry = sprintf(qry, tabs[i], emp_tabs[i], full_tabs[i])\n",
    "    dbExecute(con, full_qry)\n",
    "    }"
   ]
  },
  {
   "cell_type": "code",
   "execution_count": null,
   "metadata": {},
   "outputs": [],
   "source": [
    "# see joined full quarter and current quarter measures\n",
    "qry = \"select * from emp_q3_2014 limit 5\"\n",
    "dbGetQuery(con, qry)"
   ]
  },
  {
   "cell_type": "markdown",
   "metadata": {},
   "source": [
    "To calculate the hiring, separation, and employment growth rates, we will use the following function from <a href='https://academic.oup.com/qje/article-abstract/107/3/819/1873525'>Davis and Haltiwanger (1992)</a> to calculate 1) employment growth rate: `emp_rate`; 2) separation growth rate: `sep_rate`; 3) hire growth rate: `hire_rate`.\n",
    "\n",
    "$$ g_{et}=\\frac{2(x_{et} - x_{e,t-1})}{(x_{et} + x_{e,t-1})} $$\n",
    "\n",
    "In this function, $g_{et}$ represents employment/separation/hire growth rate of employer $e$ at time $t$. $x_{et}$ and $x_{e,t-1}$ are employer $e$'s employment/separation/hire at time $t$ and $t-1$, respectively. According to Davis and Haltiwanger (1992):\n",
    "\n",
    "\"*This growth rate measure is symmetric about zero, and it lies in the closed interval [-2,2] with deaths (births) corresponding to the left (right) endpoint. A virtue of this measure is that it facilitates an integrated treatment of births, deaths, and continuing establishments in the empirical analysis.*\"\n",
    "\n",
    "In other words, a firm with a $ g_{et} = 2$ is a new firm, while a firm with a $ g_{et} = -2$ is a a firm that exited the economy.\n",
    "    \n",
    "> Why do the two endpoints represent firms' deaths and births? Calculate the value of $g_{et}$ when $x_{et}=0$ and when $x_{e,t-1}=0$ and see what you get.\n",
    "\n",
    "In practice, we will apply this formula for every `uiacct` unless it experienced no hires or separations in the current and previous quarters, where instead of getting a divide by zero error, we will assign it to 0."
   ]
  },
  {
   "cell_type": "code",
   "execution_count": null,
   "metadata": {},
   "outputs": [],
   "source": [
    "final_table <- c(\"all_q4_2012\", \"all_q1_2013\", \"all_q2_2013\", \"all_q3_2013\", \"all_q4_2013\", \"all_q1_2014\", \"all_q2_2014\", \"all_q3_2014\")\n",
    "for(i in 1:8){\n",
    "    qry = '\n",
    "    create temp table \"%s\" as\n",
    "    select a.employeeno, a.naics, a.qtr, a.calendaryear, a.num_employed, a.avg_earnings, a.total_earnings, \n",
    "    a.bottom_25_pctile, a.top_25_pctile, a.full_num_employed, a.full_avg_earnings, a.full_total_earnings,\n",
    "        (2.0 * (a.num_employed - b.num_employed_pre))/(a.num_employed + b.num_employed_pre) as emp_rate,\n",
    "    case\n",
    "        when b.calendaryear = 2012 and b.qtr = 3 then null\n",
    "        when a.num_hire = 0 and b.num_hire_pre = 0 then 0\n",
    "        else (2.0 * (a.num_hire - b.num_hire_pre))/(a.num_hire + b.num_hire_pre) end as hire_rate, \n",
    "    case\n",
    "        when a.num_sep = 0 and b.num_sep_pre = 0 then 0\n",
    "        else (2.0 * (a.num_sep - b.num_sep_pre))/(a.num_sep + b.num_sep_pre) end as sep_rate\n",
    "    from \"%s\" a\n",
    "    left join \"%s\" b\n",
    "    on a.employeeno = b.employeeno\n",
    "    '\n",
    "    full_qry = sprintf(qry, final_table[i], tabs[i], old_tabs[i])\n",
    "    dbExecute(con, full_qry)\n",
    "    }"
   ]
  },
  {
   "cell_type": "code",
   "execution_count": null,
   "metadata": {},
   "outputs": [],
   "source": [
    "qry <- \"\n",
    "select * from all_q3_2013 limit 5\n",
    "\"\n",
    "dbGetQuery(con, qry)"
   ]
  },
  {
   "cell_type": "markdown",
   "metadata": {},
   "source": [
    "Since these eight tables contain the same exact column names, we can simply union them to create our final output: `employers_2013`."
   ]
  },
  {
   "cell_type": "markdown",
   "metadata": {},
   "source": [
    "    create table ada_ky_20.employers_2013 as\n",
    "    select * from all_q4_2012\n",
    "    union all\n",
    "    select * from all_q1_2013\n",
    "    union all\n",
    "    select * from all_q2_2013\n",
    "    union all\n",
    "    select * from all_q3_2013\n",
    "    union all\n",
    "    select * from all_q4_2013\n",
    "    union all\n",
    "    select * from all_q1_2014\n",
    "    union all\n",
    "    select * from all_q2_2014\n",
    "    union all\n",
    "    select * from all_q3_2014"
   ]
  }
 ],
 "metadata": {
  "kernelspec": {
   "display_name": "R",
   "language": "R",
   "name": "adrf_r"
  },
  "language_info": {
   "codemirror_mode": "r",
   "file_extension": ".r",
   "mimetype": "text/x-r-source",
   "name": "R",
   "pygments_lexer": "r",
   "version": "3.6.3"
  }
 },
 "nbformat": 4,
 "nbformat_minor": 4
}
