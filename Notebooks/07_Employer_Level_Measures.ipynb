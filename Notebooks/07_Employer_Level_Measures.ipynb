{
 "cells": [
  {
   "cell_type": "markdown",
   "metadata": {},
   "source": [
    "<img style=\"float: center;\" src=\"images/CI_horizontal.png\" width=\"600\">\n",
    "<center>\n",
    "    <span style=\"font-size: 1.5em;\">\n",
    "        <a href='https://www.coleridgeinitiative.org'>Website</a>\n",
    "    </span>\n",
    "</center>\n",
    "\n",
    "\n",
    "<center> Julia Lane, Benjamin Feder, Angela Tombari, Ekaterina Levitskaya, Tian Lou, Lina Osorio-Copete. </center> "
   ]
  },
  {
   "cell_type": "markdown",
   "metadata": {},
   "source": [
    "# Using Employment and Employer-Level Measures to Understand Kentucky's Labor Market"
   ]
  },
  {
   "cell_type": "markdown",
   "metadata": {},
   "source": [
    "## Introduction\n",
    "\n",
    "While in the Data Exploration notebook we focused primarily on understanding our cohort's earnings, here we will first analyze two measures of stable employment. From there, we will analyze some employer-level measures created in a supplementary notebook to get a better sense of Kentucky's labor market and how employers of our cohort fit into the overall labor market."
   ]
  },
  {
   "cell_type": "markdown",
   "metadata": {},
   "source": [
    "## Learning Objectives\n",
    "\n",
    "This notebook features two prominent segments:\n",
    "\n",
    "1. Different measures of stable employment\n",
    "1. Labor market interactions\n",
    "\n",
    "These two sections will have two different units of analysis: the first will focus directly on the individuals in our cohort while the second will focus on employers. \n",
    "\n",
    "Before we start looking at their employers, a logical prelude would be taking a deeper dive into our cohort's employment. Here, we will walk through two different measures of stable employment within a cohort and see if their earnings differed significantly from those without stable employment. From there, we will load in our employer-level measures file and look at some characteristics we can use to get a better sense of Kentucky's labor market at the times of potential employment. In parallel with our cohort, the employer-level file contains information on all of Kentucky's employers in the UI wage records data from 2012Q4-2014Q3, the potential quarters of employment for our cohort when limiting earnings to one year post graduation.\n",
    "\n",
    "We would also like to discover any distinguishing factors between the overall labor market in Kentucky and the employers that hired members of our 2013 cohort. Ultimately, we want to gain a better understanding of the demand side when it comes to employment opportunities for our Kentucky graduates.\n",
    "\n",
    "Similar to the Data Exploration notebook, we will pose a few direct questions we will use to answer our ultimate question: **How can we use labor market interactions to help explain employment outcomes of Kentucky graduates?**\n",
    "\n",
    "Before we do so, we need to load our external R packages and connect to the database."
   ]
  },
  {
   "cell_type": "markdown",
   "metadata": {},
   "source": [
    "### R Setup"
   ]
  },
  {
   "cell_type": "code",
   "execution_count": null,
   "metadata": {},
   "outputs": [],
   "source": [
    "#database interaction imports\n",
    "library(DBI)\n",
    "library(RPostgreSQL)\n",
    "\n",
    "# for data manipulation/visualization\n",
    "library(tidyverse)\n",
    "\n",
    "# scaling data\n",
    "library(scales)"
   ]
  },
  {
   "cell_type": "code",
   "execution_count": null,
   "metadata": {},
   "outputs": [],
   "source": [
    "# create an RPostgreSQL driver\n",
    "drv <- dbDriver(\"PostgreSQL\")\n",
    "\n",
    "# connect to the database\n",
    "con <- dbConnect(drv,dbname = \"postgresql://stuffed.adrf.info/appliedda\")"
   ]
  },
  {
   "cell_type": "markdown",
   "metadata": {},
   "source": [
    "## Stable Employment Measures\n",
    "\n",
    "As discussed above, we will spend some time in this section taking a look at our 2013 cohort's employment outcomes using two different measures of stable employment. We will examine how average quarterly earnings differ for individuals who satisfy these definitions of stable employment. We have listed the two questions we will seek to answer in this section below:\n",
    "\n",
    "1. How many of our graduates found stable employment within Kentucky? What percentage is this of our total cohort?\n",
    "1. What were the average quarterly earnings within these stable jobs?\n",
    "\n",
    "Let's first load our table matching our 2013 cohort to their employment outcomes into R."
   ]
  },
  {
   "cell_type": "markdown",
   "metadata": {},
   "source": [
    "### Stable Employment Measures #1 and #2: Creating the Metrics"
   ]
  },
  {
   "cell_type": "code",
   "execution_count": null,
   "metadata": {},
   "outputs": [],
   "source": [
    "# read table into R\n",
    "qry = \"\n",
    "select *\n",
    "from ada_ky_20.cohort_wages\n",
    "\"\n",
    "df_wages = dbGetQuery(con, qry)"
   ]
  },
  {
   "cell_type": "code",
   "execution_count": null,
   "metadata": {},
   "outputs": [],
   "source": [
    "# take a look at df_wages\n",
    "glimpse(df_wages)"
   ]
  },
  {
   "cell_type": "code",
   "execution_count": null,
   "metadata": {},
   "outputs": [],
   "source": [
    "# read table into R\n",
    "qry = \"\n",
    "select *\n",
    "from ada_ky_20.cohort_wages\n",
    "\"\n",
    "df_wages = dbGetQuery(con, qry)"
   ]
  },
  {
   "cell_type": "code",
   "execution_count": null,
   "metadata": {},
   "outputs": [],
   "source": [
    "# take a look at df_wages\n",
    "glimpse(df_wages)"
   ]
  },
  {
   "cell_type": "markdown",
   "metadata": {},
   "source": [
    "<font color=green><h3>Question 1: How many leavers found stable employment? What percentage is this of our total cohort? </h3></font> \n",
    "\n",
    "How would you define stable employment? Keep in mind that stable employment is a subjective measure and can take on many definitions given the context of your analysis. Here are the two definitions of stable employment we will look at: \n",
    "\n",
    "1. Those with positive earnings **all four quarters** after exit with the **same employer**.\n",
    "2. Those that experienced full-quarter employment. By full-quarter employment, an individual had earnings in **quarters t-1, t, and t+1** from the **same employer**.\n",
    "\n",
    "> Since stable employment can be defined in many different ways, if you choose to analyze stable employment within a specific cohort (highly recommended), make sure you clearly state your definition of stable employment."
   ]
  },
  {
   "cell_type": "markdown",
   "metadata": {},
   "source": [
    "#### Stable Employment Measure #1: Positive earnings all four quarters with the same employer\n",
    "\n",
    "This calculation is relatively simple given that we have to just manipulate `df_wages`. We will approach this calculation by counting the number of quarters each individual (`coleridge_id`) received wages from each employer (`employeeno`), and then filter for just those `coleridge_id`/`employeeno` combinations that appear in all four potential quarters of employment.\n",
    "\n",
    "> To see if they appeared in all four quarters, we can count the number of distinct `job_date` values each `coleridge_id`/`employeeno` combination appeared in the UI wage records."
   ]
  },
  {
   "cell_type": "code",
   "execution_count": null,
   "metadata": {},
   "outputs": [],
   "source": [
    "# see if we can calculate stable employment measure #1\n",
    "df_wages %>%\n",
    "    group_by(coleridge_id, employeeno) %>%\n",
    "    summarize(n_quarters = n_distinct(job_date)\n",
    "    ) %>%\n",
    "    ungroup() %>%\n",
    "    filter(n_quarters==4) %>%\n",
    "    head()                          #does this data frame look the way we think it should? (functions as a gut check)"
   ]
  },
  {
   "cell_type": "markdown",
   "metadata": {},
   "source": [
    "From here, we can add one line of code `summarize(n_distinct(coleridge_id))` to calculate the number of individuals in our cohort that experienced this measure of stable employment."
   ]
  },
  {
   "cell_type": "code",
   "execution_count": null,
   "metadata": {},
   "outputs": [],
   "source": [
    "## calculate number of individuals in our cohort that experienced stable employment measure #1\n",
    "df_wages %>%\n",
    "    group_by(coleridge_id, employeeno) %>%\n",
    "    summarize(n_quarters = n_distinct(job_date)\n",
    "    ) %>%\n",
    "    ungroup() %>%\n",
    "    filter(n_quarters==4) %>%\n",
    "    summarize(n_distinct(coleridge_id))"
   ]
  },
  {
   "cell_type": "markdown",
   "metadata": {},
   "source": [
    "If you are curious about the amount of members of our cohort that found stable employment (according to this definition) with multiple employers, you can do so by counting the number of times each `coleridge_id` appears after filtering the data frame to only those `coleridge_id`/`employeeno` combinations that appeared four separate times within our time frame of interest."
   ]
  },
  {
   "cell_type": "code",
   "execution_count": null,
   "metadata": {},
   "outputs": [],
   "source": [
    "# count the number who experienced stable employment measure #1 with multiple employers\n",
    "df_wages %>%\n",
    "    group_by(coleridge_id, employeeno) %>%\n",
    "    summarize(n_quarters = n_distinct(job_date)\n",
    "    ) %>%                                        #same code as above, counts number of quarters of employment by person/employer combination\n",
    "    ungroup() %>%\n",
    "    filter(n_quarters==4) %>%                    #filters so that only person/employer combinations that persist across all 4 quarters are included\n",
    "    group_by(coleridge_id) %>%\n",
    "    summarize(n=n()) %>%                         #how many person/employer combinations meet this criteria for each person\n",
    "    ungroup() %>%\n",
    "    filter(n>1) %>%                              #restricts to only those people with at least 2 employers in all four quarters\n",
    "    summarize(num=n())"
   ]
  },
  {
   "cell_type": "markdown",
   "metadata": {},
   "source": [
    "Anyways, we can calculate the percentage of our original cohort that experienced stable employment pretty easily now - we just need to load our original cohort into R to provide a frame of reference.\n",
    "\n",
    ">As a reminder, `df_wages` includes only those individuals in our cohort who found employment in Kentucky during at least one of the four quarters post-graduation."
   ]
  },
  {
   "cell_type": "code",
   "execution_count": null,
   "metadata": {},
   "outputs": [],
   "source": [
    "# select all rows from our cohort\n",
    "qry <- \"\n",
    "SELECT *\n",
    "FROM ada_ky_20.cohort\n",
    "\"\n",
    "\n",
    "#read into R as df\n",
    "df <- dbGetQuery(con,qry)"
   ]
  },
  {
   "cell_type": "markdown",
   "metadata": {},
   "source": [
    "To make the code a bit more readable, we can save the number of individuals in our cohort that satisfied this definition of stable employment first before dividing it by the number of members of our original cohort."
   ]
  },
  {
   "cell_type": "code",
   "execution_count": null,
   "metadata": {},
   "outputs": [],
   "source": [
    "# save to calculate stable employment percentage\n",
    "stable <- df_wages %>%\n",
    "    group_by(coleridge_id, employeeno) %>%\n",
    "    summarize(n_quarters = n_distinct(job_date)\n",
    "    ) %>%\n",
    "    ungroup() %>%\n",
    "    filter(n_quarters==4) %>%\n",
    "    summarize(num = n_distinct(coleridge_id))\n",
    "\n",
    "# percentage employed all four quarters\n",
    "percent((stable$num/n_distinct(df$coleridge_id)), .01)"
   ]
  },
  {
   "cell_type": "markdown",
   "metadata": {},
   "source": [
    "This percentage may not mean anything to us yet.  Is this bad?  Is this good?  One thing we can look at is how this changes the story in the context of our research question. The Postsecondary Feedback Report uses any UI-covered wage-earning employment within the given federal fiscal year (FFY).  We can do something similar here to see what employment looks like if we counted any UI-covered wage-earning employment as employment within this time frame."
   ]
  },
  {
   "cell_type": "code",
   "execution_count": null,
   "metadata": {},
   "outputs": [],
   "source": [
    "# save to calculate any employment percentage\n",
    "any_employment <- df_wages %>%\n",
    "    group_by(coleridge_id) %>%\n",
    "    summarize(total_wages = sum(wages)) %>%\n",
    "    ungroup() %>%\n",
    "    filter(total_wages > 0) %>%\n",
    "    summarize(num = n_distinct(coleridge_id))\n",
    "\n",
    "# percentage employed all four quarters\n",
    "percent((any_employment$num/n_distinct(df$coleridge_id)), .01)"
   ]
  },
  {
   "cell_type": "markdown",
   "metadata": {},
   "source": [
    "This presents a stark contrast for us in terms of the story we are telling. It would be interesting to assess the difference between any employment and the different versions of stable employment several years post-graduation.  The Postsecondary Feedback Report focuses on employment 3-years out as the first reportable employment percentage under the assumption that employment stabilizes over time.\n",
    "\n",
    ">On your own, you can see how this story changes if you restrict to employment in all four quarters regardless of employer.  What does this suggest about employment post-graduation? Does the literature support the stories that we are seeing?"
   ]
  },
  {
   "cell_type": "markdown",
   "metadata": {},
   "source": [
    "Now, let's see how the percentage changes when we employ (pun intended) our second definition of stable employment."
   ]
  },
  {
   "cell_type": "markdown",
   "metadata": {},
   "source": [
    "#### Stable Employment Measure #2: Full-Quarter Employment\n",
    "\n",
    "Finding full-quarter employment is a bit more complicated. Instead of solely using R, we will venture back into SQL, since we will need to find earnings for our cohort for an extended period of time relative to the information available in `df_wages`. To ensure that an individual experienced full-quarter employment with an employer, they must have earnings from the same employer in times t-1, t, and t+1, with t representing a quarter.  \n",
    "\n",
    "\n",
    "**Example: Data Needed to Assess Full-Quarter (FQ) Employment for Person1/EmployerA in Each of the 4 Quarters Post-Graduation**\n",
    "\n",
    "|Person/Employer Combination|High Degree |FQ YearQtr |t-1|t|t+1|\n",
    "|---|---|---|---|---|---|\n",
    "|_Person 1/Employer A_ |_2013 Q3_ |_2013 Q4_ |<font color=green>2013 Q3</font> |**2013 Q4** |2014 Q1 |\n",
    "|_Person 1/Employer A_ |_2013 Q3_ |_2014 Q1_ |2013 Q4 |**2014 Q1** |2014 Q2 |\n",
    "|_Person 1/Employer A_ |_2013 Q3_ |_2014 Q2_ |2014 Q1 |**2014 Q2** |2014 Q3 |\n",
    "|_Person 1/Employer A_ |_2013 Q3_ |_2014 Q3_ |2014 Q2 |**2014 Q3** |<font color=green>2014 Q4</font> |\n",
    "\n",
    "\n",
    "\n",
    "Our previous Kentucky wage data frame, `df_wages`, included employment for the 4 quarters post-graduation. As can be seen in the table above, calculating full quarter employment for the same four quarter span requires two additional quarters of wage information.  This requires us to extend our dataframe to include the employment quarter of graduation as well as one additional quarter after our final quarter of interest.  In the example above, this means including employment in <font color=green>2013 Q3</font> and extending employment to encompass <font color=green>2014 Q4</font>. \n",
    "\n",
    ">`df_wages` had four potential quarters of employment per person.  Our extended wage data frame will have 6 possible quarters of employment per person to assess full-quarter employment for the year following graduation.\n",
    "\n",
    "Recall that in our permanent table `ky_wages_sub` in the `ada_ky_20` schema, created in the Data Exploration notebook, we limited the maximum `calendaryear`/`qtr` combination to 2014Q4. Let's verify that we can combine our `cohort` table with `ky_wages_sub` to find these six quarters of employment history for each `coleridge_id` by making sure that the most recent wage record in `df_wages` at the very most is from 2014Q3."
   ]
  },
  {
   "cell_type": "code",
   "execution_count": null,
   "metadata": {},
   "outputs": [],
   "source": [
    "# find most recent date in df_wages\n",
    "max(df_wages$job_date)"
   ]
  },
  {
   "cell_type": "markdown",
   "metadata": {},
   "source": [
    "This is great news! That means we do not need to recreate a version of the `ui_wage_record` table in the `kystats_2020` schema with a relative \"job date\" in date format. Let's take a quick look at `ky_wages_sub` before joining it to `cohort`."
   ]
  },
  {
   "cell_type": "code",
   "execution_count": null,
   "metadata": {},
   "outputs": [],
   "source": [
    "# look at ky_wages_sub\n",
    "qry = '\n",
    "select *\n",
    "from ada_ky_20.ky_wages_sub\n",
    "limit 5\n",
    "'\n",
    "dbGetQuery(con, qry)"
   ]
  },
  {
   "cell_type": "markdown",
   "metadata": {},
   "source": [
    "To find earnings outcomes for these six quarters, we will follow a nearly identical process to that of creating our `cohort_wages` table, except instead of limiting employment outcomes to just the year following graduation, we will extend it to include all employment for 15 months post graduation, as well as in the quarter of graduation. We have already created the permanent table `full_cohort_wages` for you, and the code to do so is featured below."
   ]
  },
  {
   "cell_type": "markdown",
   "metadata": {},
   "source": [
    "    create table ada_ky_20.full_cohort_wages as\n",
    "    select a.coleridge_id, a.degreegroup, a.degreerank, a.kpeds_major1, a.kpeds_major1_cip, a.kpeds_instname, a.kpeds_institution, a.kpeds_sector, a.deg_class, b.industry, b.majorindustry, b.wages, b.fein, b.employeeno, a.deg_date, b.job_date, (b.job_date - a.deg_date) as time_after_grad\n",
    "    from ada_ky_20.cohort a\n",
    "    left join ada_ky_20.ky_wages_sub b\n",
    "    on a.coleridge_id = b.coleridge_id\n",
    "    where ((a.deg_date + '15 month'::interval) >= b.job_date) and (a.deg_date <= b.job_date)"
   ]
  },
  {
   "cell_type": "markdown",
   "metadata": {},
   "source": [
    "Now that we have all potential earnings covered in the UI wage records for the six quarters of interest relative to each `coleridge_id`, we can calculate full-quarter employment. To do so, we will use three copies of the same table, and then use a `WHERE` clause to make sure we are identifying the same individual and employer combination across three consecutive quarters.\n",
    "\n",
    "The `\\'3 month\\'::interval` code can be used when working with dates (`job_date` in this case), as it will match to exactly three months from the original date. Before or after the original date can be indicated with `+` or `-` signs."
   ]
  },
  {
   "cell_type": "code",
   "execution_count": null,
   "metadata": {},
   "outputs": [],
   "source": [
    "# see if we can calculate full-quarter employment\n",
    "qry = '\n",
    "select a.coleridge_id, a.employeeno, a.job_date, a.wages\n",
    "from ada_ky_20.full_cohort_wages a, ada_ky_20.full_cohort_wages b, ada_ky_20.full_cohort_wages c\n",
    "where a.coleridge_id = b.coleridge_id and a.employeeno = b.employeeno and a.job_date = (b.job_date - \\'3 month\\'::interval)::date and \n",
    "      a.coleridge_id = c.coleridge_id and a.employeeno = c.employeeno and a.job_date = (c.job_date + \\'3 month\\'::interval)::date and\n",
    "      a.wages > 0 and b.wages > 0 and c.wages > 0\n",
    "order by a.coleridge_id, a.job_date\n",
    "limit 5\n",
    "'\n",
    "dbGetQuery(con, qry)"
   ]
  },
  {
   "cell_type": "markdown",
   "metadata": {},
   "source": [
    "The query above will only select earnings for quarters where an individual experienced full-quarter employment with an employer, and due to the `WHERE` clause, it will only select rows in our original four quarters of interest post graduation, since it is impossible to verify if someone achieved full-quarter employment for either the earliest or latest quarter of employment history.\n",
    "\n",
    "Now that we have made sure that we can calculate full-quarter employment, let's find all cases of full-quarter employment in `full_cohort_wages` and read the resulting table into R."
   ]
  },
  {
   "cell_type": "code",
   "execution_count": null,
   "metadata": {},
   "outputs": [],
   "source": [
    "# find all individuals who achieved full-quarter employment in a given quarter\n",
    "# the first two rows of the where clause are designed to ensure the person/employer combination existed in:\n",
    "# the quarter before (t-1, table aliased as b) and \n",
    "# the quarter after  (t+1, table aliased as c)\n",
    "# the target quarter (t,   table aliased as a)\n",
    "\n",
    "qry = '\n",
    "select a.coleridge_id, a.employeeno, a.job_date, a.wages\n",
    "from ada_ky_20.full_cohort_wages a, ada_ky_20.full_cohort_wages b, ada_ky_20.full_cohort_wages c\n",
    "where a.coleridge_id = b.coleridge_id and a.employeeno = b.employeeno and a.job_date = (b.job_date - \\'3 month\\'::interval)::date and \n",
    "      a.coleridge_id = c.coleridge_id and a.employeeno = c.employeeno and a.job_date = (c.job_date + \\'3 month\\'::interval)::date and\n",
    "      a.wages > 0 and b.wages > 0 and c.wages > 0\n",
    "order by a.coleridge_id, a.job_date\n",
    "'\n",
    "cohort_full <- dbGetQuery(con, qry)"
   ]
  },
  {
   "cell_type": "markdown",
   "metadata": {},
   "source": [
    "Now that we have all records of full-quarter employment, along with their earnings in the quarter, we can simply calculate the number of individuals in our cohort who experienced our second measure of stable employment in at least one quarter."
   ]
  },
  {
   "cell_type": "code",
   "execution_count": null,
   "metadata": {},
   "outputs": [],
   "source": [
    "# calculate number of individuals in our cohort that experienced full-quarter employment\n",
    "cohort_full %>%\n",
    "    summarize(n=n_distinct(coleridge_id))"
   ]
  },
  {
   "cell_type": "markdown",
   "metadata": {},
   "source": [
    "We can then find the percentage of individuals in our cohort that achieved this measure in at least one quarter by following a similar process as we did for our first definition of stable employment.\n",
    "\n",
    ">Reminder: `df` is the name we assigned to our full cohort table of graduates when calculating percentage of graduates meeting the criteria for stable employment measure #1."
   ]
  },
  {
   "cell_type": "code",
   "execution_count": null,
   "metadata": {},
   "outputs": [],
   "source": [
    "# save number of individuals in our cohort that experienced at least one quarter of full-quarter employment\n",
    "full_n <- cohort_full %>%\n",
    "    summarize(n=n_distinct(coleridge_id))\n",
    "\n",
    "# calculate proportion of people in our cohort that experienced at least one quarter of full-quarter employment\n",
    "percent((full_n$n/n_distinct(df$coleridge_id)), .01)"
   ]
  },
  {
   "cell_type": "markdown",
   "metadata": {},
   "source": [
    "We can also calculate the percentage of individuals in our cohort that experienced full quarter employment with the same employer in all four quarters."
   ]
  },
  {
   "cell_type": "code",
   "execution_count": null,
   "metadata": {},
   "outputs": [],
   "source": [
    "# graduates with full-quarter employment in all four quarters\n",
    "cohort_full %>%\n",
    "    group_by(coleridge_id, employeeno) %>%\n",
    "    summarize(n_quarters = n_distinct(job_date)) %>%\n",
    "    ungroup() %>%\n",
    "    filter(n_quarters == 4) %>%\n",
    "    summarize(n=n_distinct(coleridge_id))"
   ]
  },
  {
   "cell_type": "markdown",
   "metadata": {},
   "source": [
    "And then we can calculate this percentage."
   ]
  },
  {
   "cell_type": "code",
   "execution_count": null,
   "metadata": {},
   "outputs": [],
   "source": [
    "# save graduates with full-quarter employment in all four quarters into a new data frame named full_4\n",
    "full_4 <- cohort_full %>%\n",
    "    group_by(coleridge_id, employeeno) %>%\n",
    "    summarize(n_quarters = n_distinct(job_date)) %>%\n",
    "    ungroup() %>%\n",
    "    filter(n_quarters == 4) %>%\n",
    "    summarize(n=n_distinct(coleridge_id))\n",
    "\n",
    "percent((full_4$n/n_distinct(df$coleridge_id)), .01)"
   ]
  },
  {
   "cell_type": "markdown",
   "metadata": {},
   "source": [
    "If you're curious, you can see if anyone experienced full quarter employment all four quarters with multiple employers as well."
   ]
  },
  {
   "cell_type": "code",
   "execution_count": null,
   "metadata": {},
   "outputs": [],
   "source": [
    "# check count of individuals with more than one employer providing full quarter employment across all four quarters\n",
    "cohort_full %>%\n",
    "    group_by(coleridge_id, employeeno) %>%\n",
    "    summarize(n_quarters = n_distinct(job_date)) %>%\n",
    "    ungroup() %>%\n",
    "    filter(n_quarters == 4) %>%\n",
    "    group_by(coleridge_id) %>%\n",
    "    summarize(n_emps = n_distinct(employeeno)) %>%\n",
    "    filter(n_emps > 1) %>%\n",
    "    summarize(n=n_distinct(coleridge_id))"
   ]
  },
  {
   "cell_type": "markdown",
   "metadata": {},
   "source": [
    "Are you surprised at the difference in percentages for our two measures of stable employment?"
   ]
  },
  {
   "cell_type": "markdown",
   "metadata": {},
   "source": [
    "<font color=red><h3> Checkpoint 1: Sector-level Analysis </h3></font> \n",
    "\n",
    "Find the most common sectors of the individuals that satisfied either one of these definitions of stable employment. Are you surprised? Do you think this may vary by location?"
   ]
  },
  {
   "cell_type": "code",
   "execution_count": null,
   "metadata": {},
   "outputs": [],
   "source": [
    "# complete checkpoint\n"
   ]
  },
  {
   "cell_type": "markdown",
   "metadata": {},
   "source": [
    "### Stable Employment Measures #1 and #2: Exploring Quarterly Earnings"
   ]
  },
  {
   "cell_type": "markdown",
   "metadata": {},
   "source": [
    "<font color=green><h3>Question 2: What were the average wages earned within these stable jobs by quarter?</h3></font> \n",
    "\n",
    "Now let's see if earnings differed for our cohort when comparing our two measures of stable employment. "
   ]
  },
  {
   "cell_type": "markdown",
   "metadata": {},
   "source": [
    "#### Stable Employment Measure #1: Average Quarterly Earnings\n",
    "\n",
    "We'll start with our first measure of those that had earnings with the same employer for all four quarters within our time frame. First, we will isolate all `coleridge_id`/`employeeno` combinations that satisfied this stable employment measure, and then filter our original earnings data frame `df_wages` to just include wages for these combinations."
   ]
  },
  {
   "cell_type": "code",
   "execution_count": null,
   "metadata": {},
   "outputs": [],
   "source": [
    "# all coleridge_id and employeeno values from stable employment measure #1 and save to stable_emp_1\n",
    "stable_emp_1 <- df_wages %>%\n",
    "    group_by(coleridge_id, employeeno) %>%\n",
    "    summarize(n_quarters = n_distinct(job_date)\n",
    "    ) %>%\n",
    "    ungroup() %>%\n",
    "    filter(n_quarters==4) %>%\n",
    "    select(-n_quarters)\n",
    "\n",
    "# see stable_emp_1\n",
    "head(stable_emp_1)"
   ]
  },
  {
   "cell_type": "markdown",
   "metadata": {},
   "source": [
    "> The code used to create `stable_emp_1` is copied from the code used earlier to isolate those who had earnings with the same employer for all four quarters within our time frame. The final line (`select(-n_quarters)`) drops the variable containing the number of employed quarters (which is always four given the `filter` condition above)."
   ]
  },
  {
   "cell_type": "markdown",
   "metadata": {},
   "source": [
    "Now, we just need to join rows in `df_wages` for those with the same `employeeno` and `coleridge_id` combinations as in `stable_emp_1`, and from there we can find the average quarterly earnings.\n",
    "\n",
    ">Note: We do not need to match on `job_date` here because this metric is based on all four quarters of employment with the same person/employer combination."
   ]
  },
  {
   "cell_type": "code",
   "execution_count": null,
   "metadata": {},
   "outputs": [],
   "source": [
    "# find average quarterly earnings by employer for these individuals\n",
    "# as noted above, a small subset of people meet this stable employment criteria for multiple employers\n",
    "\n",
    "df_wages %>% \n",
    "    inner_join(stable_emp_1, by = c('coleridge_id', 'employeeno')) %>%\n",
    "    summarize(mean_wages = mean(wages))"
   ]
  },
  {
   "cell_type": "code",
   "execution_count": null,
   "metadata": {},
   "outputs": [],
   "source": [
    "# if you are interested in what the average quarterly earnings overall were for individuals across all jobs that met the criteria for stable employment metric #1,\n",
    "# you would need to account for individuals who met the stable employment criteria for multiple employers.\n",
    "\n",
    "df_wages %>% \n",
    "    inner_join(stable_emp_1, by = c('coleridge_id', 'employeeno')) %>%\n",
    "    group_by(coleridge_id, job_date)%>%\n",
    "    summarize(quarterly_wages = sum(wages)) %>% \n",
    "    ungroup() %>%\n",
    "    summarize(mean_wages = mean(quarterly_wages))"
   ]
  },
  {
   "cell_type": "markdown",
   "metadata": {},
   "source": [
    "The code chunk below is just an example of a gut check that can be run to assess the above snippet of code.  If we restrict our overall dataframe to those that met this stable employment metric definition for only one employer, the two code chunks should match.  Feel free to ignore this gut check."
   ]
  },
  {
   "cell_type": "code",
   "execution_count": null,
   "metadata": {},
   "outputs": [],
   "source": [
    "##restricting to those that meet the stable employment metric #1 for ONLY one employer\n",
    "df_wages_one_emp <- df_wages %>%\n",
    "    inner_join(stable_emp_1, by = c('coleridge_id', 'employeeno')) %>%\n",
    "    group_by(coleridge_id) %>%\n",
    "    mutate(n_employers = n_distinct(employeeno)) %>%\n",
    "    filter(n_employers ==1) %>%\n",
    "    ungroup() \n",
    "\n",
    "#first code chunk from above (treats each row as the unit of analysis)\n",
    "df_wages_one_emp %>% \n",
    "    inner_join(stable_emp_1, by = c('coleridge_id', 'employeeno')) %>%\n",
    "    summarize(mean_wages = mean(wages))\n",
    "\n",
    "#second code chunk from above (forces quarterly wages to be the sum of wages in that quarter per person)\n",
    "#if each person only meets the criteria for one employer, results will be the same\n",
    "df_wages_one_emp %>% \n",
    "    inner_join(stable_emp_1, by = c('coleridge_id', 'employeeno')) %>%\n",
    "    group_by(coleridge_id, job_date)%>%\n",
    "    summarize(quarterly_wages = sum(wages)) %>%\n",
    "    ungroup() %>%\n",
    "    summarize(mean_wages = mean(quarterly_wages))"
   ]
  },
  {
   "cell_type": "markdown",
   "metadata": {},
   "source": [
    "#### Stable Employment Measure #2: Average Quarterly Earnings\n",
    "\n",
    "For our second stable employment measure, we have already identified `coleridge_id`/`employeeno`/`job_date` combinations for full-quarter employment. We will use a similar strategy in filtering `df_wages` before finding the average quarterly earnings for quarters in which members of our cohort experienced full-quarter employment, starting with our data frame `cohort_full`."
   ]
  },
  {
   "cell_type": "code",
   "execution_count": null,
   "metadata": {},
   "outputs": [],
   "source": [
    "# see cohort_full\n",
    "head(cohort_full)"
   ]
  },
  {
   "cell_type": "markdown",
   "metadata": {},
   "source": [
    "Given that we already have found these individual's wages per each quarter of full-quarter employment, we can simply find the average of all the values in the `wage` column.\n",
    "\n",
    "> Note: `cohort_full` contains all instances of full-quarter employment, not four quarters of full-quarter employment for a single employer."
   ]
  },
  {
   "cell_type": "code",
   "execution_count": null,
   "metadata": {},
   "outputs": [],
   "source": [
    "# find average quarterly earnings for stable employment measure 2\n",
    "cohort_full %>%\n",
    "    summarize(mean_wages = mean(wages))"
   ]
  },
  {
   "cell_type": "markdown",
   "metadata": {},
   "source": [
    "The code above gives us an approximation of the average quarterly earnings per quarter/employer/graduate combination meeting full-term employment criteria. If your interest is in how much a person who meets full quarter employment makes on average in a quarter, you would need to dig deeper and see how many people are meeting this criteria for multiple employers in the same quarter (a corner case that would not be handled above).  If the corner case exists, wages would need to be summed similar to the process shown in stable employment metric #1 above."
   ]
  },
  {
   "cell_type": "markdown",
   "metadata": {},
   "source": [
    "<font color=red><h3> Checkpoint 2: Wages for 4 Quarters of Full-Quarter Employment</h3></font> \n",
    "\n",
    "Find the distribution of wages (represented by a histogram) for those in our cohort that experienced full-quarter employment for all four quarters of interest. Is the visualization more, less, or of the same value as looking at the average quaterly wages?"
   ]
  },
  {
   "cell_type": "code",
   "execution_count": null,
   "metadata": {},
   "outputs": [],
   "source": [
    "# average quarterly wages under stable employment measure #2 for all four quarters in histogram\n",
    "\n"
   ]
  },
  {
   "cell_type": "markdown",
   "metadata": {},
   "source": [
    "Now that we have explored two potential definitions of stable employment within the context of our cohort, we will shift our focus for the rest of the notebook to the employers in order to get a better sense of Kentucky's labor market at the time of our analysis."
   ]
  },
  {
   "cell_type": "markdown",
   "metadata": {},
   "source": [
    "## Kentucky's Employers\n",
    "\n",
    "In this section, we'll look at the characteristics of Kentucky's employers. First, let's load in and take a quick look at our employer-level characteristics file `employers_2013` (located in the `ada_ky_20` schema for all employers *with at least five distinct employees* in each of the potential quarter where we analyze earnings outcomes (2012Q4 - 2014Q3).\n",
    "\n",
    "Once we take a quick look at the `employers_2013` table, we will try to answer some broad questions about Kentucky's labor market through some more direct questions:\n",
    "\n",
    "- What is the total number of jobs represented in `employers`? What about total number of full quarter jobs?\n",
    "- What are the most popular industries by number of employees? What about by number of employers?\n",
    "- What is the distribution of both total and full-quarter employment of employers per quarter?\n",
    "- What is the distribution of total and average annual earnings by quarter of these employers?\n",
    "- Did average employment, hiring, and separation growth rates across all employers vary by `calendaryear`/`qtr` combinations?"
   ]
  },
  {
   "cell_type": "markdown",
   "metadata": {},
   "source": [
    "### Load the dataset"
   ]
  },
  {
   "cell_type": "markdown",
   "metadata": {},
   "source": [
    "Before we get started answering these questions, let's load and then take a look at this file."
   ]
  },
  {
   "cell_type": "code",
   "execution_count": null,
   "metadata": {},
   "outputs": [],
   "source": [
    "# read into R\n",
    "qry <- \"\n",
    "select *\n",
    "from ada_ky_20.employers_2013\n",
    "\"\n",
    "employers <- dbGetQuery(con, qry)\n",
    "\n",
    "# see employers\n",
    "head(employers)"
   ]
  },
  {
   "cell_type": "markdown",
   "metadata": {},
   "source": [
    "Let's see how many rows are in `employers`."
   ]
  },
  {
   "cell_type": "code",
   "execution_count": null,
   "metadata": {},
   "outputs": [],
   "source": [
    "# number of rows\n",
    "nrow(employers)"
   ]
  },
  {
   "cell_type": "markdown",
   "metadata": {},
   "source": [
    "Let's also see how many employers we have on file per `calendaryear`/`qtr` combination."
   ]
  },
  {
   "cell_type": "code",
   "execution_count": null,
   "metadata": {},
   "outputs": [],
   "source": [
    "# number of employers by quarter\n",
    "employers %>%\n",
    "    count(calendaryear, qtr)"
   ]
  },
  {
   "cell_type": "markdown",
   "metadata": {},
   "source": [
    "Are there any reasons you can think of that may explain why we see a sizeable REDACTED in the number of employers from REDACTED to REDACTED? Anyways, now that we have taken a quick look into `employers`, we can start answering the questions posed at the beginning of this section. "
   ]
  },
  {
   "cell_type": "markdown",
   "metadata": {},
   "source": [
    "<font color=green><h3>Question 1: What is the total number of jobs represented in `employers`? What about total number of full quarter jobs?</h3></font> \n",
    "\n",
    "There are two columns in `employers` we will focus on to answer this set of questions: `num_employed`, which is a calculation of the number of employers, and `full_num_employed`, which tracks the number of full-quarter employees."
   ]
  },
  {
   "cell_type": "code",
   "execution_count": null,
   "metadata": {},
   "outputs": [],
   "source": [
    "# find number of employees and full-quarter employees\n",
    "employers %>%\n",
    "    summarize(total_jobs = sum(num_employed),\n",
    "             total_full_quarter_jobs = sum(full_num_employed))"
   ]
  },
  {
   "cell_type": "markdown",
   "metadata": {},
   "source": [
    "<font color=green><h3>Question 2: What are the most popular industries by number of employees? What about by number of employers?</h3></font> \n",
    "\n",
    "You may have noticed the `naics` column in `employers`. Let's take a quick look at it."
   ]
  },
  {
   "cell_type": "code",
   "execution_count": null,
   "metadata": {},
   "outputs": [],
   "source": [
    "# see naics codes\n",
    "employers %>%\n",
    "    select(naics) %>%\n",
    "    head()"
   ]
  },
  {
   "cell_type": "markdown",
   "metadata": {},
   "source": [
    "In past notebooks, we worked with `majorindustry` values, which were the titles associated with two-digit NAICS codes. We can select the first two digits of every value in `naics` with the `substring()` function."
   ]
  },
  {
   "cell_type": "code",
   "execution_count": null,
   "metadata": {},
   "outputs": [],
   "source": [
    "# demonstrate substring function\n",
    "employers %>%\n",
    "    select(naics) %>%\n",
    "    mutate(two_digit = substring(naics, 1, 2)) %>%\n",
    "    head()"
   ]
  },
  {
   "cell_type": "markdown",
   "metadata": {},
   "source": [
    "So to answer this question, we can simply include `substring(naics, 1, 2)` in our `group_by()` clause before counting the number of employees by 2-digit NAICS code."
   ]
  },
  {
   "cell_type": "code",
   "execution_count": null,
   "metadata": {},
   "outputs": [],
   "source": [
    "# 10 most popular industries by number of employees\n",
    "employers %>%\n",
    "    group_by(substring(naics,1,2)) %>%\n",
    "    summarize(num_employed = sum(num_employed)) %>%\n",
    "    rename(naics = 1) %>%\n",
    "    arrange(desc(num_employed)) %>%\n",
    "    head(10)\n",
    "\n",
    "# save as pop_naics\n",
    "pop_naics <- employers %>%\n",
    "    group_by(substring(naics,1,2)) %>%\n",
    "    summarize(num_employed = sum(num_employed)) %>%\n",
    "    rename(naics = 1) %>%\n",
    "    arrange(desc(num_employed)) %>%\n",
    "    head(10)"
   ]
  },
  {
   "cell_type": "markdown",
   "metadata": {},
   "source": [
    "Let's use our industry crosswalk to put some names to these NAICS codes. In cases where the names are not already joined to the NAICS codes, we can use `naics_2012` table in the `public` schema to act as a crosswalk.\n",
    "\n",
    "> NAICS codes are updated every five years, with the most recent update in 2017. There is an associated `naics_2017` table, but since we are focusing on employers from 2012-2014, we will use the proper NAICS lookup table within this time frame.\n",
    "\n",
    "You can see this table by running the code cell below."
   ]
  },
  {
   "cell_type": "code",
   "execution_count": null,
   "metadata": {},
   "outputs": [],
   "source": [
    "# read naics_2012 table into R as naics\n",
    "qry = '\n",
    "select *\n",
    "from public.naics_2012\n",
    "limit 5\n",
    "'\n",
    "dbGetQuery(con, qry)"
   ]
  },
  {
   "cell_type": "markdown",
   "metadata": {},
   "source": [
    "If you're curious, you can see that there are a few NAICS codes that won't work for direct matching due to the presence of `-` in the `naics_us_code` value. We can see them here:\n",
    "\n",
    "> This is apparent in all of the tables."
   ]
  },
  {
   "cell_type": "code",
   "execution_count": null,
   "metadata": {},
   "outputs": [],
   "source": [
    "# see naics with dashes\n",
    "qry = \"\n",
    "select *\n",
    "from public.naics_2012\n",
    "where naics_us_code like '%-%'\n",
    "\"\n",
    "dbGetQuery(con, qry)"
   ]
  },
  {
   "cell_type": "markdown",
   "metadata": {},
   "source": [
    "For the `naics_2012` table, we have added in these direct numbers in a permanent table `naics_2012_upd` in the `ada_ky_20` schema to allow for direct matching. Let's read this table into R."
   ]
  },
  {
   "cell_type": "code",
   "execution_count": null,
   "metadata": {},
   "outputs": [],
   "source": [
    "# read updated naics table for 2012 into R\n",
    "qry = \"\n",
    "select *\n",
    "from ada_ky_20.naics_2012_upd\n",
    "\"\n",
    "\n",
    "naics <- dbGetQuery(con, qry)"
   ]
  },
  {
   "cell_type": "markdown",
   "metadata": {},
   "source": [
    "Since we have already stored `pop_naics` as a data frame, we can `left_join()` it to `naics` to find the industries associated with each 2-digit NAICS code."
   ]
  },
  {
   "cell_type": "code",
   "execution_count": null,
   "metadata": {},
   "outputs": [],
   "source": [
    "# get industry names of most popular naics\n",
    "pop_naics %>% \n",
    "    left_join(naics, by=c('naics' = 'naics_us_code')) %>%\n",
    "    # don't include the other columns\n",
    "    select(-c(seq_no,naics)) %>%\n",
    "    # sort order of columns\n",
    "    select(naics_us_title, num_employed)"
   ]
  },
  {
   "cell_type": "markdown",
   "metadata": {},
   "source": [
    "Do any of these industries suprise you? Now, let's move on to our most common industries by number of employers.\n",
    "> In the following code, `n_distinct()` is used to calculate the number of unique employers from 2012Q4-2014Q3."
   ]
  },
  {
   "cell_type": "code",
   "execution_count": null,
   "metadata": {},
   "outputs": [],
   "source": [
    "# calculate popular industries by number of distinct employers in this time frame\n",
    "employers %>%\n",
    "    filter(!is.na(naics)) %>%\n",
    "    group_by(substring(naics,1,2)) %>%\n",
    "    summarize(distinct_emp = n_distinct(employeeno)) %>%\n",
    "    arrange(desc(distinct_emp)) %>%\n",
    "    ungroup() %>%\n",
    "    rename(naics = 1) %>%\n",
    "    head(10)"
   ]
  },
  {
   "cell_type": "markdown",
   "metadata": {},
   "source": [
    "Again, we can find the associated industry names with a quick join after saving the resulting data frame above."
   ]
  },
  {
   "cell_type": "code",
   "execution_count": null,
   "metadata": {},
   "outputs": [],
   "source": [
    "# calculate number of distinct employers from 2012Q4-2014Q3\n",
    "# save to pop_naics_emps\n",
    "pop_naics_emps <- employers %>%\n",
    "    filter(!is.na(naics)) %>%\n",
    "    group_by(substring(naics,1,2)) %>%\n",
    "    summarize(distinct_emp = n_distinct(employeeno)) %>%\n",
    "    arrange(desc(distinct_emp)) %>%\n",
    "    ungroup() %>%\n",
    "    rename(naics = 1) %>%\n",
    "    head(10)"
   ]
  },
  {
   "cell_type": "code",
   "execution_count": null,
   "metadata": {},
   "outputs": [],
   "source": [
    "# get industry names of most popular naics\n",
    "pop_naics_emps %>% \n",
    "    left_join(naics, by=c('naics' = 'naics_us_code')) %>%\n",
    "    # don't include the other columns\n",
    "    select(-c(seq_no,naics)) %>%\n",
    "    # sort order of columns\n",
    "    select(naics_us_title, distinct_emp)"
   ]
  },
  {
   "cell_type": "markdown",
   "metadata": {},
   "source": [
    "How does this list compare to the one of the most popular industries by number of total employees?"
   ]
  },
  {
   "cell_type": "markdown",
   "metadata": {},
   "source": [
    "<font color=green><h3>Question 3: What is the distribution of both total and full-quarter employment of employers per quarter?</h3></font> \n",
    "\n",
    "Now, instead of aggregating `num_employed` by quarter, we will simply look at the distribution of `num_employed` within each quarter. First, we'll look at a simple histogram of this distribution, and then find some underlying percentile values as well.\n",
    "\n",
    "> Because these visualizations are exploratory and not meant to be finalized, we are not going to adjust the default bin size or add any titles."
   ]
  },
  {
   "cell_type": "code",
   "execution_count": null,
   "metadata": {},
   "outputs": [],
   "source": [
    "# see num_employed distribution\n",
    "employers %>%\n",
    "    ggplot(aes(x=num_employed)) + \n",
    "    geom_histogram()"
   ]
  },
  {
   "cell_type": "markdown",
   "metadata": {},
   "source": [
    "Above, we can see that most employers have REDACTED employees per quarter. Let's take a look at some percentiles to get a better understanding of this distribution."
   ]
  },
  {
   "cell_type": "code",
   "execution_count": null,
   "metadata": {},
   "outputs": [],
   "source": [
    "# find distribution of total employees by employer and quarter\n",
    "employers %>%\n",
    "    summarize('.01' = quantile(num_employed, .01, na.rm=TRUE),\n",
    "              '.1'  = quantile(num_employed, .1, na.rm=TRUE),\n",
    "              '.25' = quantile(num_employed, .25, na.rm=TRUE),\n",
    "              '.5'  = quantile(num_employed, .5, na.rm=TRUE),\n",
    "              '.75' = quantile(num_employed, .75, na.rm=TRUE),\n",
    "              '.9'  = quantile(num_employed, .9, na.rm=TRUE),\n",
    "              '.99' = quantile(num_employed, .99, na.rm=TRUE),\n",
    "             )"
   ]
  },
  {
   "cell_type": "markdown",
   "metadata": {},
   "source": [
    "We can do the same for the number of full-quarter employees in each quarter by employer."
   ]
  },
  {
   "cell_type": "code",
   "execution_count": null,
   "metadata": {},
   "outputs": [],
   "source": [
    "# see full_num_employed distribution\n",
    "employers %>%\n",
    "    ggplot(aes(x=full_num_employed)) + \n",
    "    geom_histogram()"
   ]
  },
  {
   "cell_type": "markdown",
   "metadata": {},
   "source": [
    "From this histogram, it seems as though even more employers tend to have not REDACTED. Let's confirm that notion by looking at some of the percentile values."
   ]
  },
  {
   "cell_type": "code",
   "execution_count": null,
   "metadata": {},
   "outputs": [],
   "source": [
    "# find distribution of full-quarter employees by employer and quarter\n",
    "employers %>%\n",
    "    summarize('.01' = quantile(full_num_employed, .01, na.rm=TRUE),\n",
    "              '.1'  = quantile(full_num_employed, .1, na.rm=TRUE),\n",
    "              '.25' = quantile(full_num_employed, .25, na.rm=TRUE),\n",
    "              '.5'  = quantile(full_num_employed, .5, na.rm=TRUE),\n",
    "              '.75' = quantile(full_num_employed, .75, na.rm=TRUE),\n",
    "              '.9'  = quantile(full_num_employed, .9, na.rm=TRUE),\n",
    "              '.99' = quantile(full_num_employed, .99, na.rm=TRUE),\n",
    "             )"
   ]
  },
  {
   "cell_type": "markdown",
   "metadata": {},
   "source": [
    "What does this tell you about the relative size of employers in Kentucky?"
   ]
  },
  {
   "cell_type": "markdown",
   "metadata": {},
   "source": [
    "<font color=green><h3>Question 4: What is the distribution of total and average payroll by quarter of these employers? </h3></font> \n",
    "\n",
    "We will follow a similar protocol for answering these questions, starting with a histogram of the distribution before looking at some percentile values."
   ]
  },
  {
   "cell_type": "markdown",
   "metadata": {},
   "source": [
    "> If you would like to display large numbers without scientific notation in a histogram, you can use `options(scipen=999)`, which will work specifically in a Jupyter notebook environment."
   ]
  },
  {
   "cell_type": "code",
   "execution_count": null,
   "metadata": {},
   "outputs": [],
   "source": [
    "# Display full numbers instead of scientific notation\n",
    "options(scipen=999)"
   ]
  },
  {
   "cell_type": "code",
   "execution_count": null,
   "metadata": {},
   "outputs": [],
   "source": [
    "# see total_earnings distribution\n",
    "employers %>%\n",
    "    ggplot(aes(x=total_earnings)) + \n",
    "    geom_histogram()"
   ]
  },
  {
   "cell_type": "markdown",
   "metadata": {},
   "source": [
    "It appears as though the total payrolls of most employers tends to be REDACTED."
   ]
  },
  {
   "cell_type": "code",
   "execution_count": null,
   "metadata": {},
   "outputs": [],
   "source": [
    "# find distribution of total payroll by employer and quarter\n",
    "employers %>%\n",
    "    summarize('.01' = quantile(total_earnings, .01, na.rm=TRUE),\n",
    "              '.1'  = quantile(total_earnings, .1, na.rm=TRUE),\n",
    "              '.25' = quantile(total_earnings, .25, na.rm=TRUE),\n",
    "              '.5'  = quantile(total_earnings, .5, na.rm=TRUE),\n",
    "              '.75' = quantile(total_earnings, .75, na.rm=TRUE),\n",
    "              '.9'  = quantile(total_earnings, .9, na.rm=TRUE),\n",
    "              '.99' = quantile(total_earnings, .99, na.rm=TRUE),\n",
    "             )"
   ]
  },
  {
   "cell_type": "code",
   "execution_count": null,
   "metadata": {},
   "outputs": [],
   "source": [
    "# see avg_earnings distribution\n",
    "employers %>%\n",
    "    ggplot(aes(x=avg_earnings)) + \n",
    "    geom_histogram()"
   ]
  },
  {
   "cell_type": "markdown",
   "metadata": {},
   "source": [
    "Can you determine much from this visualization? If not, what would you like to add to it. Feel free to include any additions on the above visualizations."
   ]
  },
  {
   "cell_type": "code",
   "execution_count": null,
   "metadata": {},
   "outputs": [],
   "source": [
    "# find distribution of average payroll by employer and quarter\n",
    "employers %>%\n",
    "    summarize('.1'  = quantile(avg_earnings, .1, na.rm=TRUE),\n",
    "              '.25' = quantile(avg_earnings, .25, na.rm=TRUE),\n",
    "              '.5'  = quantile(avg_earnings, .5, na.rm=TRUE),\n",
    "              '.75' = quantile(avg_earnings, .75, na.rm=TRUE),\n",
    "              '.9'  = quantile(avg_earnings, .9, na.rm=TRUE),\n",
    "              '.99' = quantile(avg_earnings, .99, na.rm=TRUE),\n",
    "             )"
   ]
  },
  {
   "cell_type": "markdown",
   "metadata": {},
   "source": [
    "Is this what you were expecting to see? How do overall average payrolls for all employees compare to average quarterly earnings within our cohort?"
   ]
  },
  {
   "cell_type": "markdown",
   "metadata": {},
   "source": [
    "<font color=green><h3>Question 5: Did average employment, hiring, and separation growth rates across all employers vary by `calendaryear`/`qtr` combinations?</h3></font> \n",
    "\n",
    "Here, we will go back to using `group_by` and `summarize` to find the means and standard deviations of these growth rates across all `calendaryear`/`qtr` combinations in `employers`."
   ]
  },
  {
   "cell_type": "code",
   "execution_count": null,
   "metadata": {},
   "outputs": [],
   "source": [
    "# find mean and standard deviation of employment rates by quarter\n",
    "employers %>%\n",
    "    group_by(calendaryear,qtr) %>%\n",
    "    summarize(mean = mean(emp_rate, na.rm=TRUE),\n",
    "             sd = sd(emp_rate, na.rm=TRUE))"
   ]
  },
  {
   "cell_type": "code",
   "execution_count": null,
   "metadata": {},
   "outputs": [],
   "source": [
    "# find mean and standard deviation of hiring rates by quarter\n",
    "employers %>%\n",
    "    group_by(calendaryear, qtr) %>%\n",
    "    summarize(mean = mean(hire_rate, na.rm=TRUE),\n",
    "             sd = sd(hire_rate, na.rm=T))"
   ]
  },
  {
   "cell_type": "code",
   "execution_count": null,
   "metadata": {},
   "outputs": [],
   "source": [
    "# find mean and standard deviation of separation rates by quarter\n",
    "employers %>%\n",
    "    group_by(calendaryear, qtr) %>%\n",
    "    summarize(mean = mean(sep_rate, na.rm=T),\n",
    "             sd = sd(sep_rate, na.rm=T))"
   ]
  },
  {
   "cell_type": "markdown",
   "metadata": {},
   "source": [
    "Based on your knowledge of employment patterns then, are these results consistent with the overall trends in the United States at the time?"
   ]
  },
  {
   "cell_type": "markdown",
   "metadata": {},
   "source": [
    "<font color=red><h3> Checkpoint 3: Understanding Our Cohort within Labor Market </h3></font> \n",
    "\n",
    "As stated at the beginning of the notebook, we would like to get a better sense of who is employing our 2013 cohort - are they larger employers with lots of turnover? Do they tend to pay their employees better? Please find the answers to the questions posed in \"Kentucky's Employers\" for employers that employed members of our cohort. Filter the `employers` data frame based on the `employeeno`, `qtr`, and `calendaryear` values."
   ]
  },
  {
   "cell_type": "code",
   "execution_count": null,
   "metadata": {},
   "outputs": [],
   "source": [
    "# guiding question 1\n",
    "\n"
   ]
  },
  {
   "cell_type": "code",
   "execution_count": null,
   "metadata": {},
   "outputs": [],
   "source": [
    "# guiding question 2\n",
    "\n"
   ]
  },
  {
   "cell_type": "code",
   "execution_count": null,
   "metadata": {},
   "outputs": [],
   "source": [
    "# guiding question 3\n",
    "\n"
   ]
  },
  {
   "cell_type": "code",
   "execution_count": null,
   "metadata": {},
   "outputs": [],
   "source": [
    "# guiding question 4\n",
    "\n"
   ]
  },
  {
   "cell_type": "code",
   "execution_count": null,
   "metadata": {},
   "outputs": [],
   "source": [
    "# guiding question 5\n",
    "\n"
   ]
  },
  {
   "cell_type": "markdown",
   "metadata": {},
   "source": [
    "In this notebook, you have explored two separate definitions of stable employment and how quarterly wages changed under the two definitions. Then, you switched over to looking at the demand side of the labor market, learning about all of Kentucky's employers from 2012Q4-2014Q3. \n",
    "\n",
    "After answering the final checkpoint, you will be able to compare employers of our cohort to the overall labor market in Kentucky. Did you find that individuals in our cohort were often employed at certain types of employers? "
   ]
  }
 ],
 "metadata": {
  "kernelspec": {
   "display_name": "R",
   "language": "R",
   "name": "adrf_r"
  },
  "language_info": {
   "codemirror_mode": "r",
   "file_extension": ".r",
   "mimetype": "text/x-r-source",
   "name": "R",
   "pygments_lexer": "r",
   "version": "3.6.3"
  }
 },
 "nbformat": 4,
 "nbformat_minor": 4
}
